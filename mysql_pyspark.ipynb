{
 "cells": [
  {
   "cell_type": "code",
   "execution_count": 4,
   "id": "8b3c074f-81f1-4698-820e-8acb9ac9be1e",
   "metadata": {},
   "outputs": [
    {
     "name": "stdout",
     "output_type": "stream",
     "text": [
      "Defaulting to user installation because normal site-packages is not writeable\n",
      "Collecting pyspark\n",
      "  Downloading pyspark-3.5.1.tar.gz (317.0 MB)\n",
      "\u001b[2K     \u001b[38;2;114;156;31m━━━━━━━━━━━━━━━━━━━━━━━━━━━━━━━━━━━━━\u001b[0m \u001b[32m317.0/317.0 MB\u001b[0m \u001b[31m987.0 kB/s\u001b[0m eta \u001b[36m0:00:00\u001b[0mm eta \u001b[36m0:00:01\u001b[0m[36m0:00:01\u001b[0m\n",
      "\u001b[?25h  Preparing metadata (setup.py) ... \u001b[?25ldone\n",
      "\u001b[?25hCollecting py4j==0.10.9.7\n",
      "  Downloading py4j-0.10.9.7-py2.py3-none-any.whl (200 kB)\n",
      "\u001b[2K     \u001b[38;2;114;156;31m━━━━━━━━━━━━━━━━━━━━━━━━━━━━━━━━━━━━━━\u001b[0m \u001b[32m200.5/200.5 KB\u001b[0m \u001b[31m18.6 MB/s\u001b[0m eta \u001b[36m0:00:00\u001b[0m\n",
      "\u001b[?25hBuilding wheels for collected packages: pyspark\n",
      "  Building wheel for pyspark (setup.py) ... \u001b[?25ldone\n",
      "\u001b[?25h  Created wheel for pyspark: filename=pyspark-3.5.1-py2.py3-none-any.whl size=317488513 sha256=7a8fa44ca6cf4e9cf29f1ea0f1c238e4dff0e1abd92cfc7fa2b2c1afc1dd2278\n",
      "  Stored in directory: /home/kat/.cache/pip/wheels/80/1d/60/2c256ed38dddce2fdd93be545214a63e02fbd8d74fb0b7f3a6\n",
      "Successfully built pyspark\n",
      "Installing collected packages: py4j, pyspark\n",
      "Successfully installed py4j-0.10.9.7 pyspark-3.5.1\n",
      "Note: you may need to restart the kernel to use updated packages.\n"
     ]
    }
   ],
   "source": [
    "pip install pyspark"
   ]
  },
  {
   "cell_type": "code",
   "execution_count": 20,
   "id": "d08c686a-aafa-4f50-89cf-e9e23f40f4be",
   "metadata": {},
   "outputs": [],
   "source": [
    "from pyspark.sql import SparkSession\n",
    "\n",
    "mysql_connector_jar: str = \"/usr/local/spark/jars/mysql-connector-j-8.2.0.jar\""
   ]
  },
  {
   "cell_type": "code",
   "execution_count": 21,
   "id": "2bc0b814-5621-43be-956c-a22da1cac725",
   "metadata": {},
   "outputs": [],
   "source": [
    "spark = SparkSession.builder \\\n",
    "    .appName(\"MySQL\") \\\n",
    "    .config(\"spark.jars\", mysql_connector_jar) \\\n",
    "    .getOrCreate()"
   ]
  },
  {
   "cell_type": "code",
   "execution_count": 22,
   "id": "641ed9dc-2080-42ff-ad02-a89fb86f2af8",
   "metadata": {},
   "outputs": [],
   "source": [
    "jdbc_url = \"jdbc:mysql://localhost:3306/TorontoRestaurants\"\n",
    "connection_properties = {\n",
    "    \"user\": \"root\",\n",
    "    \"password\" : \"AzurePassword\",\n",
    "    \"driver\": \"com.mysql.cj.jdbc.Driver\"\n",
    "}"
   ]
  },
  {
   "cell_type": "code",
   "execution_count": 25,
   "id": "1e407496-3e0b-49e3-9d4c-c870bbd4f74a",
   "metadata": {},
   "outputs": [],
   "source": [
    "df = spark.read.jdbc(url=jdbc_url, table=\"restaurants\", properties=connection_properties)"
   ]
  },
  {
   "cell_type": "code",
   "execution_count": 26,
   "id": "31dee006-ebc3-4c29-a8e1-da011e33de67",
   "metadata": {},
   "outputs": [
    {
     "name": "stdout",
     "output_type": "stream",
     "text": [
      "root\n",
      " |-- Category: string (nullable = true)\n",
      " |-- Restaurant_Address: string (nullable = true)\n",
      " |-- Postal_Code: string (nullable = true)\n",
      " |-- Restaurant_Name: string (nullable = true)\n",
      " |-- Restaurant_Phone: string (nullable = true)\n",
      " |-- Restaurant_Price_Range: string (nullable = true)\n",
      " |-- Restaurant_Website: string (nullable = true)\n",
      " |-- Restaurant_Yelp_URL: string (nullable = true)\n",
      " |-- Restaurant_Latitude: double (nullable = true)\n",
      " |-- Restaurant_Longitude: double (nullable = true)\n",
      "\n"
     ]
    }
   ],
   "source": [
    "df.printSchema()"
   ]
  },
  {
   "cell_type": "code",
   "execution_count": 28,
   "id": "c909b6ac-aff5-40c9-8276-f3597118f8ca",
   "metadata": {},
   "outputs": [
    {
     "name": "stdout",
     "output_type": "stream",
     "text": [
      "+--------+--------------------+-----------+--------------------+----------------+----------------------+--------------------+--------------------+-------------------+--------------------+\n",
      "|Category|  Restaurant_Address|Postal_Code|     Restaurant_Name|Restaurant_Phone|Restaurant_Price_Range|  Restaurant_Website| Restaurant_Yelp_URL|Restaurant_Latitude|Restaurant_Longitude|\n",
      "+--------+--------------------+-----------+--------------------+----------------+----------------------+--------------------+--------------------+-------------------+--------------------+\n",
      "|  Afghan|14 Prince Arthur ...|    M5R 1A9|            The Host|  (416) 962-4678|                $11-30|   welcometohost.com|https://www.yelp....|          43.669935|          -79.395858|\n",
      "|  Afghan|259 Wellington St...|     ON M5V|Aanch Modernist I...|  (647) 558-1508|                $11-30|            aanch.ca|https://www.yelp....|          43.644708|           -79.39067|\n",
      "|  Afghan|736 Bay Street\\nT...|    M5G 2J8|Silk Road Kabob H...|                |             Under $10|                    |https://www.yelp....|          43.659816|          -79.385591|\n",
      "|  Afghan|691 Yonge Street\\...|    M4Y 2B2|        Naan & Kabob|  (416) 972-6623|                $11-30|     naanandkabob.ca|https://www.yelp....|          43.669058|            -79.3861|\n",
      "|  Afghan|66 Overlea Boulev...|    M4H 1C4|      Afghan Cuisine|  (416) 422-5858|                $11-30|afghancuisinerest...|https://www.yelp....|           43.70807|          -79.341508|\n",
      "|  Afghan|119 Spadina Avenu...|    M5V 2L1|        Pamier Kabob|  (647) 352-2623|                $11-30|    pamier-kabob.com|https://www.yelp....|           43.64721|          -79.395473|\n",
      "|  Afghan|4205 Keele St\\nTo...|    M3J 2N8|       Bamiyan Kabob|  (416) 650-0111|                $11-30|    bamiyankabob.com|https://www.yelp....|          43.773829|          -79.492068|\n",
      "|  Afghan|2307 Markham Road...|    M1B 2W3|      Kandahar Kabab|  (416) 609-8666|                $11-30|   kandaharkabab.com|https://www.yelp....|          43.812544|          -79.242368|\n",
      "|  Afghan|707 Dundas Street...|    M5T 2W6|     Mazar’s Kitchen|  (647) 868-4290|                      |                    |https://www.yelp....|          43.651766|          -79.404965|\n",
      "|  Afghan|2298A Islington A...|    M9W 3X2|Afghan Kebob Cuisine|  (416) 546-4238|             Under $10|afghankebobcuisin...|https://www.yelp....|          43.716049|          -79.555686|\n",
      "+--------+--------------------+-----------+--------------------+----------------+----------------------+--------------------+--------------------+-------------------+--------------------+\n",
      "only showing top 10 rows\n",
      "\n"
     ]
    }
   ],
   "source": [
    "df.show(10)"
   ]
  },
  {
   "cell_type": "code",
   "execution_count": 31,
   "id": "01b42123-1142-4d93-ad66-5f062dab4d44",
   "metadata": {},
   "outputs": [
    {
     "name": "stdout",
     "output_type": "stream",
     "text": [
      "+--------+--------------------+-----------+--------------------+----------------+----------------------+-------------------+--------------------+\n",
      "|Category|  Restaurant_Address|Postal_Code|     Restaurant_Name|Restaurant_Phone|Restaurant_Price_Range|Restaurant_Latitude|Restaurant_Longitude|\n",
      "+--------+--------------------+-----------+--------------------+----------------+----------------------+-------------------+--------------------+\n",
      "|  Afghan|14 Prince Arthur ...|    M5R 1A9|            The Host|  (416) 962-4678|                $11-30|          43.669935|          -79.395858|\n",
      "|  Afghan|259 Wellington St...|     ON M5V|Aanch Modernist I...|  (647) 558-1508|                $11-30|          43.644708|           -79.39067|\n",
      "|  Afghan|736 Bay Street\\nT...|    M5G 2J8|Silk Road Kabob H...|                |             Under $10|          43.659816|          -79.385591|\n",
      "|  Afghan|691 Yonge Street\\...|    M4Y 2B2|        Naan & Kabob|  (416) 972-6623|                $11-30|          43.669058|            -79.3861|\n",
      "|  Afghan|66 Overlea Boulev...|    M4H 1C4|      Afghan Cuisine|  (416) 422-5858|                $11-30|           43.70807|          -79.341508|\n",
      "|  Afghan|119 Spadina Avenu...|    M5V 2L1|        Pamier Kabob|  (647) 352-2623|                $11-30|           43.64721|          -79.395473|\n",
      "|  Afghan|4205 Keele St\\nTo...|    M3J 2N8|       Bamiyan Kabob|  (416) 650-0111|                $11-30|          43.773829|          -79.492068|\n",
      "|  Afghan|2307 Markham Road...|    M1B 2W3|      Kandahar Kabab|  (416) 609-8666|                $11-30|          43.812544|          -79.242368|\n",
      "|  Afghan|707 Dundas Street...|    M5T 2W6|     Mazar’s Kitchen|  (647) 868-4290|                      |          43.651766|          -79.404965|\n",
      "|  Afghan|2298A Islington A...|    M9W 3X2|Afghan Kebob Cuisine|  (416) 546-4238|             Under $10|          43.716049|          -79.555686|\n",
      "+--------+--------------------+-----------+--------------------+----------------+----------------------+-------------------+--------------------+\n",
      "only showing top 10 rows\n",
      "\n"
     ]
    }
   ],
   "source": [
    "df_dropped = df.drop(\"Restaurant_Website\", \"Restaurant_Yelp_URL\")\n",
    "df_dropped.show(10)"
   ]
  },
  {
   "cell_type": "code",
   "execution_count": 33,
   "id": "bbf38b90-79f0-4557-99a7-4f529dc4ff90",
   "metadata": {},
   "outputs": [
    {
     "name": "stderr",
     "output_type": "stream",
     "text": [
      "                                                                                \r"
     ]
    }
   ],
   "source": [
    "df_dropped.write.csv(\"toronto_restaurants\", header=True)"
   ]
  }
 ],
 "metadata": {
  "kernelspec": {
   "display_name": "Python 3 (ipykernel)",
   "language": "python",
   "name": "python3"
  },
  "language_info": {
   "codemirror_mode": {
    "name": "ipython",
    "version": 3
   },
   "file_extension": ".py",
   "mimetype": "text/x-python",
   "name": "python",
   "nbconvert_exporter": "python",
   "pygments_lexer": "ipython3",
   "version": "3.10.12"
  }
 },
 "nbformat": 4,
 "nbformat_minor": 5
}
