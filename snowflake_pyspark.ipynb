{
  "cells": [
    {
      "cell_type": "code",
      "execution_count": 1,
      "metadata": {
        "collapsed": true,
        "colab": {
          "base_uri": "https://localhost:8080/"
        },
        "id": "aNNQ5YPcMFhu",
        "outputId": "d239ab67-2775-4452-fcbb-2cf0f5eb402f"
      },
      "outputs": [
        {
          "output_type": "stream",
          "name": "stdout",
          "text": [
            "Collecting pyspark==3.4.0\n",
            "  Downloading pyspark-3.4.0.tar.gz (310.8 MB)\n",
            "\u001b[2K     \u001b[90m━━━━━━━━━━━━━━━━━━━━━━━━━━━━━━━━━━━━━━━━\u001b[0m \u001b[32m310.8/310.8 MB\u001b[0m \u001b[31m3.3 MB/s\u001b[0m eta \u001b[36m0:00:00\u001b[0m\n",
            "\u001b[?25h  Preparing metadata (setup.py) ... \u001b[?25l\u001b[?25hdone\n",
            "Requirement already satisfied: py4j==0.10.9.7 in /usr/local/lib/python3.10/dist-packages (from pyspark==3.4.0) (0.10.9.7)\n",
            "Building wheels for collected packages: pyspark\n",
            "  Building wheel for pyspark (setup.py) ... \u001b[?25l\u001b[?25hdone\n",
            "  Created wheel for pyspark: filename=pyspark-3.4.0-py2.py3-none-any.whl size=311317122 sha256=cdf7090918edfe0674c421d5c8b2807601efa2a89babde90c86cb578c0c48ce9\n",
            "  Stored in directory: /root/.cache/pip/wheels/7b/1b/4b/3363a1d04368e7ff0d408e57ff57966fcdf00583774e761327\n",
            "Successfully built pyspark\n",
            "Installing collected packages: pyspark\n",
            "Successfully installed pyspark-3.4.0\n"
          ]
        }
      ],
      "source": [
        "!pip install pyspark==3.4.0"
      ]
    },
    {
      "cell_type": "code",
      "source": [
        "!pyspark --version\n"
      ],
      "metadata": {
        "colab": {
          "base_uri": "https://localhost:8080/"
        },
        "id": "_6zaX_4tPl1W",
        "outputId": "35c572b1-11e8-42d2-81b0-4f2d4127ddcc"
      },
      "execution_count": 2,
      "outputs": [
        {
          "output_type": "stream",
          "name": "stdout",
          "text": [
            "Welcome to\n",
            "      ____              __\n",
            "     / __/__  ___ _____/ /__\n",
            "    _\\ \\/ _ \\/ _ `/ __/  '_/\n",
            "   /___/ .__/\\_,_/_/ /_/\\_\\   version 3.4.0\n",
            "      /_/\n",
            "                        \n",
            "Using Scala version 2.12.17, OpenJDK 64-Bit Server VM, 11.0.23\n",
            "Branch HEAD\n",
            "Compiled by user xinrong.meng on 2023-04-07T02:18:01Z\n",
            "Revision 87a5442f7ed96b11051d8a9333476d080054e5a0\n",
            "Url https://github.com/apache/spark\n",
            "Type --help for more information.\n"
          ]
        }
      ]
    },
    {
      "cell_type": "code",
      "execution_count": 3,
      "metadata": {
        "colab": {
          "base_uri": "https://localhost:8080/"
        },
        "id": "FexD5kQRMFhv",
        "outputId": "4e9eefdf-a831-41fc-cd13-dba86b8c18e0"
      },
      "outputs": [
        {
          "output_type": "stream",
          "name": "stdout",
          "text": [
            "3.4.0\n"
          ]
        }
      ],
      "source": [
        "import pyspark\n",
        "print(pyspark.__version__)"
      ]
    },
    {
      "cell_type": "code",
      "source": [
        "from google.colab import files\n",
        "uploaded = files.upload()"
      ],
      "metadata": {
        "colab": {
          "base_uri": "https://localhost:8080/",
          "height": 107
        },
        "id": "XX9NTTPfiL0y",
        "outputId": "9a71d716-ccf4-43f4-beed-984fd09837fc"
      },
      "execution_count": 5,
      "outputs": [
        {
          "output_type": "display_data",
          "data": {
            "text/plain": [
              "<IPython.core.display.HTML object>"
            ],
            "text/html": [
              "\n",
              "     <input type=\"file\" id=\"files-76ae94af-b4c4-4ab7-b37f-81c4358d2f3b\" name=\"files[]\" multiple disabled\n",
              "        style=\"border:none\" />\n",
              "     <output id=\"result-76ae94af-b4c4-4ab7-b37f-81c4358d2f3b\">\n",
              "      Upload widget is only available when the cell has been executed in the\n",
              "      current browser session. Please rerun this cell to enable.\n",
              "      </output>\n",
              "      <script>// Copyright 2017 Google LLC\n",
              "//\n",
              "// Licensed under the Apache License, Version 2.0 (the \"License\");\n",
              "// you may not use this file except in compliance with the License.\n",
              "// You may obtain a copy of the License at\n",
              "//\n",
              "//      http://www.apache.org/licenses/LICENSE-2.0\n",
              "//\n",
              "// Unless required by applicable law or agreed to in writing, software\n",
              "// distributed under the License is distributed on an \"AS IS\" BASIS,\n",
              "// WITHOUT WARRANTIES OR CONDITIONS OF ANY KIND, either express or implied.\n",
              "// See the License for the specific language governing permissions and\n",
              "// limitations under the License.\n",
              "\n",
              "/**\n",
              " * @fileoverview Helpers for google.colab Python module.\n",
              " */\n",
              "(function(scope) {\n",
              "function span(text, styleAttributes = {}) {\n",
              "  const element = document.createElement('span');\n",
              "  element.textContent = text;\n",
              "  for (const key of Object.keys(styleAttributes)) {\n",
              "    element.style[key] = styleAttributes[key];\n",
              "  }\n",
              "  return element;\n",
              "}\n",
              "\n",
              "// Max number of bytes which will be uploaded at a time.\n",
              "const MAX_PAYLOAD_SIZE = 100 * 1024;\n",
              "\n",
              "function _uploadFiles(inputId, outputId) {\n",
              "  const steps = uploadFilesStep(inputId, outputId);\n",
              "  const outputElement = document.getElementById(outputId);\n",
              "  // Cache steps on the outputElement to make it available for the next call\n",
              "  // to uploadFilesContinue from Python.\n",
              "  outputElement.steps = steps;\n",
              "\n",
              "  return _uploadFilesContinue(outputId);\n",
              "}\n",
              "\n",
              "// This is roughly an async generator (not supported in the browser yet),\n",
              "// where there are multiple asynchronous steps and the Python side is going\n",
              "// to poll for completion of each step.\n",
              "// This uses a Promise to block the python side on completion of each step,\n",
              "// then passes the result of the previous step as the input to the next step.\n",
              "function _uploadFilesContinue(outputId) {\n",
              "  const outputElement = document.getElementById(outputId);\n",
              "  const steps = outputElement.steps;\n",
              "\n",
              "  const next = steps.next(outputElement.lastPromiseValue);\n",
              "  return Promise.resolve(next.value.promise).then((value) => {\n",
              "    // Cache the last promise value to make it available to the next\n",
              "    // step of the generator.\n",
              "    outputElement.lastPromiseValue = value;\n",
              "    return next.value.response;\n",
              "  });\n",
              "}\n",
              "\n",
              "/**\n",
              " * Generator function which is called between each async step of the upload\n",
              " * process.\n",
              " * @param {string} inputId Element ID of the input file picker element.\n",
              " * @param {string} outputId Element ID of the output display.\n",
              " * @return {!Iterable<!Object>} Iterable of next steps.\n",
              " */\n",
              "function* uploadFilesStep(inputId, outputId) {\n",
              "  const inputElement = document.getElementById(inputId);\n",
              "  inputElement.disabled = false;\n",
              "\n",
              "  const outputElement = document.getElementById(outputId);\n",
              "  outputElement.innerHTML = '';\n",
              "\n",
              "  const pickedPromise = new Promise((resolve) => {\n",
              "    inputElement.addEventListener('change', (e) => {\n",
              "      resolve(e.target.files);\n",
              "    });\n",
              "  });\n",
              "\n",
              "  const cancel = document.createElement('button');\n",
              "  inputElement.parentElement.appendChild(cancel);\n",
              "  cancel.textContent = 'Cancel upload';\n",
              "  const cancelPromise = new Promise((resolve) => {\n",
              "    cancel.onclick = () => {\n",
              "      resolve(null);\n",
              "    };\n",
              "  });\n",
              "\n",
              "  // Wait for the user to pick the files.\n",
              "  const files = yield {\n",
              "    promise: Promise.race([pickedPromise, cancelPromise]),\n",
              "    response: {\n",
              "      action: 'starting',\n",
              "    }\n",
              "  };\n",
              "\n",
              "  cancel.remove();\n",
              "\n",
              "  // Disable the input element since further picks are not allowed.\n",
              "  inputElement.disabled = true;\n",
              "\n",
              "  if (!files) {\n",
              "    return {\n",
              "      response: {\n",
              "        action: 'complete',\n",
              "      }\n",
              "    };\n",
              "  }\n",
              "\n",
              "  for (const file of files) {\n",
              "    const li = document.createElement('li');\n",
              "    li.append(span(file.name, {fontWeight: 'bold'}));\n",
              "    li.append(span(\n",
              "        `(${file.type || 'n/a'}) - ${file.size} bytes, ` +\n",
              "        `last modified: ${\n",
              "            file.lastModifiedDate ? file.lastModifiedDate.toLocaleDateString() :\n",
              "                                    'n/a'} - `));\n",
              "    const percent = span('0% done');\n",
              "    li.appendChild(percent);\n",
              "\n",
              "    outputElement.appendChild(li);\n",
              "\n",
              "    const fileDataPromise = new Promise((resolve) => {\n",
              "      const reader = new FileReader();\n",
              "      reader.onload = (e) => {\n",
              "        resolve(e.target.result);\n",
              "      };\n",
              "      reader.readAsArrayBuffer(file);\n",
              "    });\n",
              "    // Wait for the data to be ready.\n",
              "    let fileData = yield {\n",
              "      promise: fileDataPromise,\n",
              "      response: {\n",
              "        action: 'continue',\n",
              "      }\n",
              "    };\n",
              "\n",
              "    // Use a chunked sending to avoid message size limits. See b/62115660.\n",
              "    let position = 0;\n",
              "    do {\n",
              "      const length = Math.min(fileData.byteLength - position, MAX_PAYLOAD_SIZE);\n",
              "      const chunk = new Uint8Array(fileData, position, length);\n",
              "      position += length;\n",
              "\n",
              "      const base64 = btoa(String.fromCharCode.apply(null, chunk));\n",
              "      yield {\n",
              "        response: {\n",
              "          action: 'append',\n",
              "          file: file.name,\n",
              "          data: base64,\n",
              "        },\n",
              "      };\n",
              "\n",
              "      let percentDone = fileData.byteLength === 0 ?\n",
              "          100 :\n",
              "          Math.round((position / fileData.byteLength) * 100);\n",
              "      percent.textContent = `${percentDone}% done`;\n",
              "\n",
              "    } while (position < fileData.byteLength);\n",
              "  }\n",
              "\n",
              "  // All done.\n",
              "  yield {\n",
              "    response: {\n",
              "      action: 'complete',\n",
              "    }\n",
              "  };\n",
              "}\n",
              "\n",
              "scope.google = scope.google || {};\n",
              "scope.google.colab = scope.google.colab || {};\n",
              "scope.google.colab._files = {\n",
              "  _uploadFiles,\n",
              "  _uploadFilesContinue,\n",
              "};\n",
              "})(self);\n",
              "</script> "
            ]
          },
          "metadata": {}
        },
        {
          "output_type": "stream",
          "name": "stdout",
          "text": [
            "Saving spark-snowflake_2.12-2.12.0-spark_3.4.jar to spark-snowflake_2.12-2.12.0-spark_3.4.jar\n",
            "Saving snowflake-jdbc-3.13.30.jar to snowflake-jdbc-3.13.30.jar\n"
          ]
        }
      ]
    },
    {
      "cell_type": "code",
      "source": [
        "dir_list = os.listdir(\"/content\")\n",
        "print(dir_list)"
      ],
      "metadata": {
        "colab": {
          "base_uri": "https://localhost:8080/"
        },
        "id": "6-9NRHjUiPbc",
        "outputId": "177b8a33-b786-4438-fdb9-9d7a50544272"
      },
      "execution_count": 6,
      "outputs": [
        {
          "output_type": "stream",
          "name": "stdout",
          "text": [
            "['.config', 'snowflake-jdbc-3.13.30.jar', 'spark-snowflake_2.12-2.12.0-spark_3.4.jar', 'sample_data']\n"
          ]
        }
      ]
    },
    {
      "cell_type": "code",
      "execution_count": 37,
      "metadata": {
        "id": "QocN5hgqMFhw"
      },
      "outputs": [],
      "source": [
        "from pyspark.sql import SparkSession\n",
        "from pyspark.sql.functions import *\n",
        "from pyspark import SparkConf\n",
        "\n",
        "spark = SparkSession.builder \\\n",
        "    .appName(\"SnowflakeDataRead\") \\\n",
        "    .config(\"spark.jars\", \"/content/spark-snowflake_2.12-2.12.0-spark_3.4.jar,/content/snowflake-jdbc-3.13.30.jar\") \\\n",
        "    .getOrCreate()\n"
      ]
    },
    {
      "cell_type": "code",
      "source": [
        "# Snowflake connection options\n",
        "sfOptions = {\n",
        "    \"sfURL\" : \"https://fl06095.canada-central.azure.snowflakecomputing.com\",\n",
        "    \"sfAccount\" : \"fl06095\",\n",
        "    \"sfUser\" : \"ryankimura\",\n",
        "    \"sfPassword\" : \"Abcd1989\",\n",
        "    \"sfDatabase\" : \"PRECIPITATION_DATA\",\n",
        "    \"sfSchema\" : \"PUBLIC\",\n",
        "    \"sfWarehouse\" : \"COMPUTE_WH\",\n",
        "    \"sfRole\" : \"ACCOUNTADMIN\",\n",
        "    \"sfDriver\" : \"net.snowflake.client.jdbc.SnowflakeDriver\",\n",
        "}\n"
      ],
      "metadata": {
        "id": "OPmAeJgKMcnn"
      },
      "execution_count": 45,
      "outputs": []
    },
    {
      "cell_type": "code",
      "source": [
        "SNOWFLAKE_SOURCE_NAME = \"net.snowflake.spark.snowflake\"\n",
        "# Read data from Snowflake for checking proper connectivity\n",
        "df = spark.read \\\n",
        ".format(SNOWFLAKE_SOURCE_NAME) \\\n",
        "    .options(**sfOptions) \\\n",
        "    .option(\"dbtable\", \"PRECIPITATION_DATA_TB\") \\\n",
        "    .load()\n",
        "# Show the data (for testing purposes)\n",
        "df.show()\n",
        "print(\"Connection Established Successfully!\")\n",
        "spark.stop()"
      ],
      "metadata": {
        "id": "Ujw3Wsz7Ml4N",
        "colab": {
          "base_uri": "https://localhost:8080/"
        },
        "outputId": "76bff5f2-f050-4707-9fa4-38d1141cf08c"
      },
      "execution_count": 47,
      "outputs": [
        {
          "output_type": "stream",
          "name": "stdout",
          "text": [
            "+----+------+--------------------+--------------------+------------------+------------------+\n",
            "|  ID|  NAME|                DATE|            RAINFALL|         LONGITUDE|          LATITUDE|\n",
            "+----+------+--------------------+--------------------+------------------+------------------+\n",
            "|7706|RG_040|2019-02-08 01:30:...|0.250000000000000000|-79.28445514000000|43.694896570000000|\n",
            "|7706|RG_040|2019-02-08 01:35:...|0.000000000000000000|-79.28445514000000|43.694896570000000|\n",
            "|7706|RG_040|2019-02-08 01:40:...|0.000000000000000000|-79.28445514000000|43.694896570000000|\n",
            "|7706|RG_040|2019-02-08 01:45:...|0.250000000000000000|-79.28445514000000|43.694896570000000|\n",
            "|7706|RG_040|2019-02-08 01:50:...|0.250000000000000000|-79.28445514000000|43.694896570000000|\n",
            "|7706|RG_040|2019-02-08 01:55:...|0.250000000000000000|-79.28445514000000|43.694896570000000|\n",
            "|7706|RG_040|2019-02-08 02:00:...|0.250000000000000000|-79.28445514000000|43.694896570000000|\n",
            "|7706|RG_040|2019-02-08 02:05:...|0.250000000000000000|-79.28445514000000|43.694896570000000|\n",
            "|7706|RG_040|2019-02-08 02:10:...|0.250000000000000000|-79.28445514000000|43.694896570000000|\n",
            "|7706|RG_040|2019-02-08 02:15:...|0.000000000000000000|-79.28445514000000|43.694896570000000|\n",
            "|7706|RG_040|2019-02-08 02:20:...|0.250000000000000000|-79.28445514000000|43.694896570000000|\n",
            "|7706|RG_040|2019-02-08 02:25:...|0.000000000000000000|-79.28445514000000|43.694896570000000|\n",
            "|7706|RG_040|2019-02-08 02:30:...|0.250000000000000000|-79.28445514000000|43.694896570000000|\n",
            "|7706|RG_040|2019-02-08 02:35:...|0.000000000000000000|-79.28445514000000|43.694896570000000|\n",
            "|7706|RG_040|2019-02-08 02:40:...|0.250000000000000000|-79.28445514000000|43.694896570000000|\n",
            "|7706|RG_040|2019-02-08 02:45:...|0.000000000000000000|-79.28445514000000|43.694896570000000|\n",
            "|7706|RG_040|2019-02-08 02:50:...|0.250000000000000000|-79.28445514000000|43.694896570000000|\n",
            "|7706|RG_040|2019-02-08 02:55:...|0.000000000000000000|-79.28445514000000|43.694896570000000|\n",
            "|7706|RG_040|2019-02-08 03:00:...|0.000000000000000000|-79.28445514000000|43.694896570000000|\n",
            "|7706|RG_040|2019-02-08 03:05:...|0.250000000000000000|-79.28445514000000|43.694896570000000|\n",
            "+----+------+--------------------+--------------------+------------------+------------------+\n",
            "only showing top 20 rows\n",
            "\n",
            "Connection Established Successfully!\n"
          ]
        }
      ]
    }
  ],
  "metadata": {
    "kernelspec": {
      "display_name": "ml-venv",
      "language": "python",
      "name": "python3"
    },
    "language_info": {
      "codemirror_mode": {
        "name": "ipython",
        "version": 3
      },
      "file_extension": ".py",
      "mimetype": "text/x-python",
      "name": "python",
      "nbconvert_exporter": "python",
      "pygments_lexer": "ipython3",
      "version": "3.11.5"
    },
    "colab": {
      "provenance": []
    }
  },
  "nbformat": 4,
  "nbformat_minor": 0
}